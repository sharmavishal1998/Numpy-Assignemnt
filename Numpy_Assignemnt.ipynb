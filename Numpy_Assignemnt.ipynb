{
  "nbformat": 4,
  "nbformat_minor": 0,
  "metadata": {
    "colab": {
      "provenance": []
    },
    "kernelspec": {
      "name": "python3",
      "display_name": "Python 3"
    },
    "language_info": {
      "name": "python"
    }
  },
  "cells": [
    {
      "cell_type": "code",
      "execution_count": 1,
      "metadata": {
        "colab": {
          "base_uri": "https://localhost:8080/"
        },
        "id": "XWJUdO9ahOxJ",
        "outputId": "df494135-1fe7-4afa-8797-ffb935c6d760"
      },
      "outputs": [
        {
          "output_type": "execute_result",
          "data": {
            "text/plain": [
              "(array([[37, 71, 36],\n",
              "        [55, 69, 86],\n",
              "        [ 3, 19, 76]]),\n",
              " array([[37, 55,  3],\n",
              "        [71, 69, 19],\n",
              "        [36, 86, 76]]))"
            ]
          },
          "metadata": {},
          "execution_count": 1
        }
      ],
      "source": [
        "#Question1- Create a 3x3 NumPy array with random integers between 1 and 100. Then, interchange its rows and columns.\n",
        "#Answer-\n",
        "import numpy as np\n",
        "\n",
        "# Create a 3x3 NumPy array with random integers between 1 and 100\n",
        "arr = np.random.randint(1, 101, size=(3, 3))\n",
        "\n",
        "# Interchanging rows and columns (Transpose the array)\n",
        "transposed_arr = np.transpose(arr)\n",
        "\n",
        "arr, transposed_arr\n"
      ]
    },
    {
      "cell_type": "code",
      "source": [
        "#Question2-Generate a 1D NumPy array with 10 elements. Reshape it into a 2x5 array, then into a 5x2 array\n",
        "#Answer-\n",
        "import numpy as np\n",
        "\n",
        "# Generate a 1D NumPy array with 10 elements\n",
        "array_1d = np.arange(10)\n",
        "\n",
        "# Reshape it into a 2x5 array\n",
        "array_2x5 = array_1d.reshape(2, 5)\n",
        "print(\"2x5 array:\\n\", array_2x5)\n",
        "\n",
        "# Reshape it into a 5x2 array\n",
        "array_5x2 = array_1d.reshape(5, 2)\n",
        "print(\"5x2 array:\\n\", array_5x2)\n",
        "\n"
      ],
      "metadata": {
        "colab": {
          "base_uri": "https://localhost:8080/"
        },
        "id": "ZffMxPj8iqLp",
        "outputId": "f3fe8ecd-84d2-454f-c8e0-70ac8de0a990"
      },
      "execution_count": 3,
      "outputs": [
        {
          "output_type": "stream",
          "name": "stdout",
          "text": [
            "2x5 array:\n",
            " [[0 1 2 3 4]\n",
            " [5 6 7 8 9]]\n",
            "5x2 array:\n",
            " [[0 1]\n",
            " [2 3]\n",
            " [4 5]\n",
            " [6 7]\n",
            " [8 9]]\n"
          ]
        }
      ]
    },
    {
      "cell_type": "code",
      "source": [
        "#Question3-Create a 4x4 NumPy array with random float values. Add a border of zeros around it, resulting in a 6x6 array\n",
        "#Answer-\n",
        "import numpy as np\n",
        "\n",
        "# Create a 4x4 NumPy array with random float values\n",
        "array_4x4 = np.random.rand(4, 4)\n",
        "\n",
        "# Add a border of zeros around it\n",
        "array_6x6 = np.pad(array_4x4, pad_width=1, mode='constant', constant_values=0)\n",
        "\n",
        "print(\"4x4 array:\\n\", array_4x4)\n",
        "print(\"6x6 array with border of zeros:\\n\", array_6x6)\n"
      ],
      "metadata": {
        "colab": {
          "base_uri": "https://localhost:8080/"
        },
        "id": "hbcnWbxMjDYk",
        "outputId": "f3c5be5d-4ecf-4604-f4fd-e0e5050fa0f8"
      },
      "execution_count": 4,
      "outputs": [
        {
          "output_type": "stream",
          "name": "stdout",
          "text": [
            "4x4 array:\n",
            " [[0.6417873  0.19226043 0.21427011 0.34295422]\n",
            " [0.14704765 0.93249947 0.02186197 0.7863515 ]\n",
            " [0.3263684  0.72711022 0.21682176 0.37492169]\n",
            " [0.4309224  0.23752264 0.04494278 0.52904651]]\n",
            "6x6 array with border of zeros:\n",
            " [[0.         0.         0.         0.         0.         0.        ]\n",
            " [0.         0.6417873  0.19226043 0.21427011 0.34295422 0.        ]\n",
            " [0.         0.14704765 0.93249947 0.02186197 0.7863515  0.        ]\n",
            " [0.         0.3263684  0.72711022 0.21682176 0.37492169 0.        ]\n",
            " [0.         0.4309224  0.23752264 0.04494278 0.52904651 0.        ]\n",
            " [0.         0.         0.         0.         0.         0.        ]]\n"
          ]
        }
      ]
    },
    {
      "cell_type": "code",
      "source": [
        "#Question4-Using NumPy, create an array of integers from 10 to 60 with a step of 5.\n",
        "#Answer-\n",
        "import numpy as np\n",
        "\n",
        "# Create an array of integers from 10 to 60 with a step of 5\n",
        "array = np.arange(10, 65, 5)\n",
        "\n",
        "print(\"Array:\", array)"
      ],
      "metadata": {
        "colab": {
          "base_uri": "https://localhost:8080/"
        },
        "id": "3s06xLlfjwNv",
        "outputId": "1c36bb19-0b5c-465b-875b-327c6976e4d5"
      },
      "execution_count": 5,
      "outputs": [
        {
          "output_type": "stream",
          "name": "stdout",
          "text": [
            "Array: [10 15 20 25 30 35 40 45 50 55 60]\n"
          ]
        }
      ]
    },
    {
      "cell_type": "code",
      "source": [
        "#Question5-Create a NumPy array of strings ['python', 'numpy', 'pandas']. Apply different case transformations(uppercase, lowercase, title case, etc.) to each element.\n",
        "#Answer-\n",
        "import numpy as np\n",
        "\n",
        "# Create a NumPy array of strings\n",
        "array = np.array(['python', 'numpy', 'pandas'])\n",
        "\n",
        "# Apply different case transformations\n",
        "uppercase_array = np.char.upper(array)\n",
        "lowercase_array = np.char.lower(array)\n",
        "titlecase_array = np.char.title(array)\n",
        "capitalize_array = np.char.capitalize(array)\n",
        "\n",
        "print(\"Original array:\", array)\n",
        "print(\"Uppercase array:\", uppercase_array)\n",
        "print(\"Lowercase array:\", lowercase_array)\n",
        "print(\"Titlecase array:\", titlecase_array)\n",
        "print(\"Capitalized array:\", capitalize_array)"
      ],
      "metadata": {
        "colab": {
          "base_uri": "https://localhost:8080/"
        },
        "id": "5kbIgC7hj96h",
        "outputId": "1a22f9b1-c97f-40c0-83ba-11a05474393b"
      },
      "execution_count": 6,
      "outputs": [
        {
          "output_type": "stream",
          "name": "stdout",
          "text": [
            "Original array: ['python' 'numpy' 'pandas']\n",
            "Uppercase array: ['PYTHON' 'NUMPY' 'PANDAS']\n",
            "Lowercase array: ['python' 'numpy' 'pandas']\n",
            "Titlecase array: ['Python' 'Numpy' 'Pandas']\n",
            "Capitalized array: ['Python' 'Numpy' 'Pandas']\n"
          ]
        }
      ]
    },
    {
      "cell_type": "code",
      "source": [
        "#Question6-Generate a NumPy array of words. Insert a space between each character of every word in the array\n",
        "#Answer-\n",
        "import numpy as np\n",
        "\n",
        "# Create a NumPy array of words\n",
        "words_array = np.array(['python', 'numpy', 'pandas'])\n",
        "\n",
        "# Insert a space between each character of every word\n",
        "spaced_words_array = np.char.join(' ', words_array)\n",
        "\n",
        "print(\"Original array:\", words_array)\n",
        "print(\"Array with spaces between characters:\", spaced_words_array)"
      ],
      "metadata": {
        "colab": {
          "base_uri": "https://localhost:8080/"
        },
        "id": "RiXul3wskRr9",
        "outputId": "83cda9e1-63d6-4838-eaaf-29d10364cb7e"
      },
      "execution_count": 7,
      "outputs": [
        {
          "output_type": "stream",
          "name": "stdout",
          "text": [
            "Original array: ['python' 'numpy' 'pandas']\n",
            "Array with spaces between characters: ['p y t h o n' 'n u m p y' 'p a n d a s']\n"
          ]
        }
      ]
    },
    {
      "cell_type": "code",
      "source": [
        "#Question7-Create two 2D NumPy arrays and perform element-wise addition, subtraction, multiplication, and division\n",
        "#Answer-\n",
        "import numpy as np\n",
        "\n",
        "# Create two 2D NumPy arrays\n",
        "array1 = np.array([[1, 2, 3], [4, 5, 6]])\n",
        "array2 = np.array([[7, 8, 9], [10, 11, 12]])\n",
        "\n",
        "# Perform element-wise addition\n",
        "addition = np.add(array1, array2)\n",
        "\n",
        "# Perform element-wise subtraction\n",
        "subtraction = np.subtract(array1, array2)\n",
        "\n",
        "# Perform element-wise multiplication\n",
        "multiplication = np.multiply(array1, array2)\n",
        "\n",
        "# Perform element-wise division\n",
        "division = np.divide(array1, array2)\n",
        "\n",
        "print(\"Array 1:\\n\", array1)\n",
        "print(\"Array 2:\\n\", array2)\n",
        "print(\"Element-wise addition:\\n\", addition)\n",
        "print(\"Element-wise subtraction:\\n\", subtraction)\n",
        "print(\"Element-wise multiplication:\\n\", multiplication)\n",
        "print(\"Element-wise division:\\n\", division)\n"
      ],
      "metadata": {
        "colab": {
          "base_uri": "https://localhost:8080/"
        },
        "id": "KzyBNGYMkej3",
        "outputId": "7a846902-d6b6-4210-fdf5-0d9c174f2072"
      },
      "execution_count": 8,
      "outputs": [
        {
          "output_type": "stream",
          "name": "stdout",
          "text": [
            "Array 1:\n",
            " [[1 2 3]\n",
            " [4 5 6]]\n",
            "Array 2:\n",
            " [[ 7  8  9]\n",
            " [10 11 12]]\n",
            "Element-wise addition:\n",
            " [[ 8 10 12]\n",
            " [14 16 18]]\n",
            "Element-wise subtraction:\n",
            " [[-6 -6 -6]\n",
            " [-6 -6 -6]]\n",
            "Element-wise multiplication:\n",
            " [[ 7 16 27]\n",
            " [40 55 72]]\n",
            "Element-wise division:\n",
            " [[0.14285714 0.25       0.33333333]\n",
            " [0.4        0.45454545 0.5       ]]\n"
          ]
        }
      ]
    },
    {
      "cell_type": "code",
      "source": [
        "#Question8-Use NumPy to create a 5x5 identity matrix, then extract its diagonal elements\n",
        "#Answer-\n",
        "import numpy as np\n",
        "\n",
        "# Create a 5x5 identity matrix\n",
        "identity_matrix = np.eye(5)\n",
        "\n",
        "# Extract the diagonal elements\n",
        "diagonal_elements = np.diag(identity_matrix)\n",
        "\n",
        "print(\"5x5 Identity Matrix:\\n\", identity_matrix)\n",
        "print(\"Diagonal Elements:\", diagonal_elements)"
      ],
      "metadata": {
        "colab": {
          "base_uri": "https://localhost:8080/"
        },
        "id": "eengedd_k7U2",
        "outputId": "77f88ab0-1228-45ca-8068-8a969d7657a2"
      },
      "execution_count": 12,
      "outputs": [
        {
          "output_type": "stream",
          "name": "stdout",
          "text": [
            "5x5 Identity Matrix:\n",
            " [[1. 0. 0. 0. 0.]\n",
            " [0. 1. 0. 0. 0.]\n",
            " [0. 0. 1. 0. 0.]\n",
            " [0. 0. 0. 1. 0.]\n",
            " [0. 0. 0. 0. 1.]]\n",
            "Diagonal Elements: [1. 1. 1. 1. 1.]\n"
          ]
        }
      ]
    },
    {
      "cell_type": "code",
      "source": [
        "#Question9- Generate a NumPy array of 100 random integers between 0 and 1000. Find and display all prime numbers in this array.\n",
        "#Answer-\n",
        "import numpy as np\n",
        "\n",
        "# Function to check if a number is prime\n",
        "def is_prime(n):\n",
        "    if n <= 1:\n",
        "        return False\n",
        "    if n <= 3:\n",
        "        return True\n",
        "    if n % 2 == 0 or n % 3 == 0:\n",
        "        return False\n",
        "    i = 5\n",
        "    while i * i <= n:\n",
        "        if n % i == 0 or n % (i + 2) == 0:\n",
        "            return False\n",
        "        i += 6\n",
        "    return True\n",
        "\n",
        "# Vectorized version of the prime-checking function\n",
        "vectorized_is_prime = np.vectorize(is_prime)\n",
        "\n",
        "# Generate a NumPy array of 100 random integers between 0 and 1000\n",
        "random_integers = np.random.randint(0, 1001, size=100)\n",
        "\n",
        "# Apply the vectorized prime-checking function to the array\n",
        "prime_mask = vectorized_is_prime(random_integers)\n",
        "\n",
        "# Extract the prime numbers using the boolean mask\n",
        "prime_numbers = random_integers[prime_mask]\n",
        "\n",
        "print(\"Random Integers:\\n\", random_integers)\n",
        "print(\"Prime Numbers:\\n\", prime_numbers)"
      ],
      "metadata": {
        "colab": {
          "base_uri": "https://localhost:8080/"
        },
        "id": "WdGpRkRwlDrF",
        "outputId": "8081241b-9d8c-429c-cd51-ac020888e1bb"
      },
      "execution_count": 11,
      "outputs": [
        {
          "output_type": "stream",
          "name": "stdout",
          "text": [
            "Random Integers:\n",
            " [ 84 872 464 861 279 662 701  40 148 726 738 803 624  17  42 882 149 237\n",
            " 180  49  99  18 350 444 492 704 129 724 594 359 367 235 965 796 526 410\n",
            " 409 267 530 604  21 320 284 402 595 457 779 528 917 763  95 946 762  72\n",
            " 481 867 562 944 331 109 224 178 747 947 673 943 350 350 424 791 124 249\n",
            " 996 430 654 944 806 727 191 643 854 436 946 422 958 707 222 696 981 354\n",
            " 869 602   5 200 375 569 939  54 482 297]\n",
            "Prime Numbers:\n",
            " [701  17 149 359 367 409 457 331 109 947 673 727 191 643   5 569]\n"
          ]
        }
      ]
    },
    {
      "cell_type": "code",
      "source": [
        "#Question10- Create a NumPy array representing daily temperatures for a month. Calculate and display the weekly averages.\n",
        "#answer-\n",
        "import numpy as np\n",
        "\n",
        "# Generate a NumPy array representing daily temperatures for a month (30 days)\n",
        "# For example, let's generate temperatures between 0 and 35 degrees Celsius\n",
        "daily_temperatures = np.random.uniform(0, 35, size=30)\n",
        "\n",
        "# Reshape the array into weeks (assuming each week has 7 days)\n",
        "# Calculate the number of weeks needed\n",
        "days_per_week = 7\n",
        "num_weeks = len(daily_temperatures) // days_per_week\n",
        "\n",
        "# Reshape the array into the shape (num_weeks, days_per_week)\n",
        "weekly_temperatures = daily_temperatures[:num_weeks * days_per_week].reshape(num_weeks, days_per_week)\n",
        "\n",
        "# Calculate the weekly averages\n",
        "weekly_averages = np.mean(weekly_temperatures, axis=1)\n",
        "\n",
        "print(\"Daily Temperatures:\\n\", daily_temperatures)\n",
        "print(\"Weekly Temperatures:\\n\", weekly_temperatures)\n",
        "print(\"Weekly Averages:\\n\", weekly_averages)\n"
      ],
      "metadata": {
        "colab": {
          "base_uri": "https://localhost:8080/"
        },
        "id": "vmCnUpmPmfeK",
        "outputId": "77809b18-0443-4a18-a9d2-0fa1a209b1f8"
      },
      "execution_count": 14,
      "outputs": [
        {
          "output_type": "stream",
          "name": "stdout",
          "text": [
            "Daily Temperatures:\n",
            " [28.50862529  7.767014   17.64925958 19.42368916 22.53309444  8.99292606\n",
            " 19.81521432  1.9221044   8.08902235 31.94676199 19.90471145 24.59982289\n",
            "  6.78407747  9.76900461  4.22411229 13.84292371 30.50261217 28.56036717\n",
            " 26.26208241 31.46147391 10.87492794  2.42590908 25.03296565 33.5669158\n",
            " 32.54613464  2.06101589 32.27390108 22.74389289 19.08167716  9.45618032]\n",
            "Weekly Temperatures:\n",
            " [[28.50862529  7.767014   17.64925958 19.42368916 22.53309444  8.99292606\n",
            "  19.81521432]\n",
            " [ 1.9221044   8.08902235 31.94676199 19.90471145 24.59982289  6.78407747\n",
            "   9.76900461]\n",
            " [ 4.22411229 13.84292371 30.50261217 28.56036717 26.26208241 31.46147391\n",
            "  10.87492794]\n",
            " [ 2.42590908 25.03296565 33.5669158  32.54613464  2.06101589 32.27390108\n",
            "  22.74389289]]\n",
            "Weekly Averages:\n",
            " [17.81283184 14.71650074 20.81835709 21.52153357]\n"
          ]
        }
      ]
    }
  ]
}